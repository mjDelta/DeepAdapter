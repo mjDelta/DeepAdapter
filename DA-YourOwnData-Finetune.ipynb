{
 "cells": [
  {
   "cell_type": "markdown",
   "id": "0b3227c7-19c6-4daa-87f0-fd9ead31c5a6",
   "metadata": {},
   "source": [
    "# Tutorial of DeepAdapter\n",
    "### A self-adaptive and versatile tool for eliminating multiple undesirable variations from transcriptome\n",
    "In this notebook, you will learn how to reproduce the results and re-train your DeepAdapter with your own datasets.\n",
    "## 1. Installation and requirements\n",
    "### 1.1. Installation\n",
    "To run locally, please open a terminal window and download the code with:\n",
    "```sh\n",
    "$ # create a new conda environment\n",
    "$ conda create -n DA python=3.9\n",
    "$ # activate environment\n",
    "$ conda activate DA\n",
    "$ # Install dependencies\n",
    "$ pip install deepadapter==1.0.1\n",
    "$ # Launch jupyter notebook\n",
    "$ jupyter notebook\n",
    "```\n",
    "To execute a \"cell\", please press Shift+Enter\n",
    "\n",
    "### 1.2. Formats of your own input files\n",
    "Your own dataset should include $2$ files (**Note: these 2 files are put in the same directory.**): \n",
    "* **gene_expression.txt** for gene expression matrix;\n",
    "* **unwantedVar_biologicalSig.txt** for annotations of unwanted variations and biological signals.\n",
    "\n",
    "The example of **gene_expression.txt** is as follows (**Note: every row should be split by commas.**):\n",
    "| SampleId | Gene_1 | Gene_2 | Gene_3 | ... | Gene_n-2 | Gene_n-1 | Gene_n |\n",
    "|  ----  | ----  | ----  | ----  |  ----  | ----  | ----  | ----  |\n",
    "| **1** | x<sub>11</sub> | x<sub>12</sub> | x<sub>13</sub> | ... | x<sub>1(n-2)</sub> | x<sub>1(n-1)</sub> | x<sub>1n</sub> |\n",
    "| **2** | x<sub>21</sub> | x<sub>22</sub> | x<sub>23</sub> | ... | x<sub>2(n-2)</sub> | x<sub>2(n-1)</sub> | x<sub>2n</sub> |\n",
    "| ... | ... | ... | ... | ... | ... | ... | ... |\n",
    "| **m** | x<sub>m1</sub> | x<sub>m2</sub> | x<sub>m3</sub> | ... | x<sub>m(n-2)</sub> | x<sub>m(n-1)</sub> | x<sub>mn</sub> |\n",
    "\n",
    "The example of **unwantedVar_biologicalSig.txt** is as follows (**Note: every row should be split by commas.**):\n",
    "| SampleId | Unwanted_var | Biological_sig |\n",
    "|  ----  | ----  | ----  |\n",
    "| **1** | unwantedVar<sub>1</sub> | biologicalSig<sub>1</sub> |\n",
    "| **2** | unwantedVar<sub>1</sub> | biologicalSig<sub>1</sub> |\n",
    "| ... | ... | ... |\n",
    "| **m** | unwantedVar<sub>p</sub> | biologicalSig<sub>q</sub> |\n",
    "\n",
    "Examples of **unwantedVar** and **biologicalSig**:\n",
    "* **unwantedVar**:\n",
    "    * **batch**: batch1, batch2, ..., batch(n);\n",
    "    * **platform**: RNA-seq, microarray;\n",
    "    * **purity**: cell lines, tissue;\n",
    "    * ...\n",
    "* **biologicalSig**:\n",
    "    * **cancer types**: lung cancer, kidney cancer, ..., bone cancer;\n",
    "    * **lineages**: Lung, kidney, ..., eye;\n",
    "    * **donor sources**: donor1, donor2, ..., donor(n);\n",
    "    * ...\n",
    "\n",
    "### 1.3. Download pre-trained models\n",
    "Please download the pre-trained models for fine-tuning. The models are in the this link [click here to download](https://github.com/mjDelta/DeepAdapter/blob/main/models).\n",
    "\n",
    "After downloading, place the models in the `models/` directory located in the same hierarchy as this tutorial.\n",
    "* pretrained batch_lincs: `models/batch_LINCS`\n",
    "* pretrained batch_quartet: `models/batch_Quartet`\n",
    "* pretrained platform: `models/platform`\n",
    "* pretrained purity: `models/purity`\n",
    "* pretrained batch_quartet (using the intersected gene set between LINCS and Quartet dataset): `models/pretrained_LINCS_Quartet`\n",
    "\n",
    "**Putting models in the right directory is important for loading the pretrained models successfully.**"
   ]
  },
  {
   "cell_type": "markdown",
   "id": "9db523b1-6e48-4bd1-b0f9-9eb38e40c0e1",
   "metadata": {},
   "source": [
    "## 2. Load the datasets and preprocess\n",
    "### 2.1. Load the modules"
   ]
  },
  {
   "cell_type": "code",
   "execution_count": null,
   "id": "fbc07082-e02d-431f-9fba-b5b78c85fe24",
   "metadata": {},
   "outputs": [],
   "source": [
    "%load_ext autoreload\n",
    "%autoreload 2\n",
    "\n",
    "import os, sys\n",
    "import pandas as pd\n",
    "import numpy as np\n",
    "\n",
    "from deepadapter.utils import data_utils as DT\n",
    "from deepadapter.finetune_utils as FTUT\n",
    "from deepadapter.params import dl_finetune_params as DLPARAM"
   ]
  },
  {
   "cell_type": "markdown",
   "id": "475fb653-5db1-4f45-b29b-344413279bce",
   "metadata": {},
   "source": [
    "### 2.2. Load the your own dataset\n",
    "Replace the **yourDataDir** with the directory where your own dataset is located in.\n",
    "\n",
    "Name the columns of sample id, unwanted variation annotations, and wanted signal annotations as <u>**SampleID**</u>, <u>**Unwanted_var**</u>, and <u>**Biological_sig**</u>, respectively."
   ]
  },
  {
   "cell_type": "code",
   "execution_count": null,
   "id": "45c4e81d-f681-43bb-b299-e7953ff7e2ad",
   "metadata": {},
   "outputs": [],
   "source": [
    "data_name = \"yourDataName\"\n",
    "exp_data_path = \"yourDataDir/gene_expression.txt\" ## the path of your gene expression matrix\n",
    "ann_data_path = \"yourDataDir/unwantedVar_biologicalSig.txt\" ## the path of your annotation information\n",
    "sample_id = \"SampleId\"\n",
    "unwanted_var_col = \"Unwanted_var\"\n",
    "wanted_sig_col = \"Biological_sig\"\n",
    "\n",
    "loadTransData = DT.LoadTransData(exp_data_path, ann_data_path, sample_id, unwanted_var_col, wanted_sig_col)\n",
    "data, ids, unwanted_labels, wanted_labels = loadTransData.load_data()"
   ]
  },
  {
   "cell_type": "markdown",
   "id": "754a9871-a185-456a-a47e-95c7c6303ad3",
   "metadata": {},
   "source": [
    "### 2.3 Load the genes used in pre-trained model\n",
    "Before fine-tuning, make sure that the loaded genes are the genes used in the pre-trained model. The pre-trained models can be found in the folder of `models`."
   ]
  },
  {
   "cell_type": "code",
   "execution_count": null,
   "id": "9f2ac99f-e025-4ab9-a4f7-8bfb3c17c693",
   "metadata": {},
   "outputs": [],
   "source": [
    "load_dir = \"models/pretrained_LINCS_Quartet/\"\n",
    "pretrain_genes = pd.read_csv(os.path.join(load_dir, \"gene.csv\"))[\"gene\"]\n",
    "try:\n",
    "\tdata = data[pretrain_genes]\n",
    "except Exception as e:\n",
    "    raise(\"Inconsistent gene set between this dataset and pretrained dataset\")"
   ]
  },
  {
   "cell_type": "markdown",
   "id": "7845814c-c265-4bf1-b662-a685d52933a9",
   "metadata": {},
   "source": [
    "### 2.3. Preprocess the transcriptomic data\n",
    "The gene expression profiles are preprocessed by sample normalization, gene ranking, and log normalization. Let $S_i = \\sum_l x_{i l}$ denote the sum over all genes. In sample normalization, we divide $S_i$ for every sample and multiply a constant 10000 ([Xiaokang Yu et al. Nature communications, 2023](https://www.nature.com/articles/s41467-023-36635-5)):\n",
    "$$x_{i l} = \\frac{x_{i l}}{S_i} 10^4.$$\n",
    "Then, we sort genes by their expression levels and perform the log transformation $x_{i l} = \\log {(x_{i l} + 1)}$."
   ]
  },
  {
   "cell_type": "code",
   "execution_count": null,
   "id": "d387d965-c88f-4aed-95cd-b6dbf2d0017b",
   "metadata": {},
   "outputs": [],
   "source": [
    "prepTransData = DT.PrepTransData()\n",
    "raw_df = prepTransData.sample_norm(data)\n",
    "input_arr = prepTransData.sample_log(raw_df)\n",
    "bat2label, label2bat, unwanted_labels, unwanted_onehot = prepTransData.label2onehot(unwanted_labels)"
   ]
  },
  {
   "cell_type": "markdown",
   "id": "e0f9d681-58fc-4e39-a8a1-3511bf5810e0",
   "metadata": {},
   "source": [
    "## 3. Finetune DeepAdapter\n",
    "### 3.1. Adjust DeepAdapter's parameters\n",
    "The parameters for DeepAdapter are as follows (**Note: you can revise parameter directly in `net_args`, e.g., `net_args.epochs = 10000`.**):\n",
    "* **epochs**: the total training epochs of DeepAdapter, default = $5000$\n",
    "* **ae_epochs**: the warmup epochs of autoencoder in DeepAdapter, default = $400$\n",
    "* **batch_epochs**: the warmup epochs of discriminator in DeepAdapter, default = $50$\n",
    "* **batch_size**: the batch size of dataloader, default = $256$\n",
    "* **hidden_dim**: the hidden units of autoencoder in DeepAdapter, default = $256$\n",
    "* **z_dim**: the latent units of autoencoder in DeepAdapter, default = $128$\n",
    "* **drop**: the dropout rate of DeepAdapter, default = $0.3$\n",
    "* **lr_lower_ae**: the lower learning rate of autoencoder in DeepAdapter, default = $1e-5$\n",
    "* **lr_upper_ae**: the upper learning rate of autoencoder in DeepAdapter, default = $5e-4$\n",
    "* **lr_lower_batch**: the lower learning rate of discriminator in DeepAdapter, default = $1e-5$\n",
    "* **lr_upper_batch**: the upper learning rate of discriminator in DeepAdapter, default = $5e-4$"
   ]
  },
  {
   "cell_type": "code",
   "execution_count": null,
   "id": "aaa260a0-df65-4594-8227-fd095b26fc3f",
   "metadata": {},
   "outputs": [],
   "source": [
    "net_args = DLPARAM.load_dl_params()\n",
    "\n",
    "print(net_args.epochs)\n",
    "net_args.epochs = 10000\n",
    "print(net_args.epochs)"
   ]
  },
  {
   "cell_type": "markdown",
   "id": "15aaab98-836f-4f74-9b4a-e2af4c65fd52",
   "metadata": {},
   "source": [
    "### 3.2. Fine-tune DeepAdapter\n",
    "DeepAdapter is finetuned with all layers unfrozen. Especially, there might exist different numbers of unwanted variations between pretrained and finetuned datasets, the last layer of the discriminatory network will be modified to match the number of unwanted variations in the finetuned dataset."
   ]
  },
  {
   "cell_type": "code",
   "execution_count": null,
   "id": "6ba951b1-797d-409e-ab41-e5a0e048471e",
   "metadata": {},
   "outputs": [],
   "source": [
    "ft_num = net_args.ft_num\n",
    "\n",
    "out_dir = f\"models/finetune_{data_name}/record_{ft_num}\"\n",
    "os.makedirs(out_dir, exist_ok = True)\n",
    "\n",
    "num_platform = len(bat2label)\n",
    "data, labels, labels_hot, ids = unwanted_onehot, unwanted_labels, unwanted_onehot, np.arange(len(unwanted_onehot))\n",
    "\n",
    "FTUT.test_finetune(data, labels, labels_hot, donors, ids, label2bat, load_dir, out_dir, net_args, num_platform, finetune_num = ft_num, n_test = 100)\n",
    "\n",
    "avg_aligned_data, data, wnt_infs, unw_infs, ids = FTUT.finetune(data, labels, labels_hot, donors, ids, label2bat, load_dir, out_dir, net_args, num_platform, n_test = 100, test_ratio = 0.2)\n",
    "\n",
    "save_path = os.path.join(out_dir, \"DA_data.csv\")\n",
    "df = pd.DataFrame(avg_aligned_data, columns = pretrain_genes)\n",
    "df[\"ID\"] = ids\n",
    "df[\"wantInfo\"] = wnt_infs\n",
    "df[\"unwantInfo\"] = unw_infs\n",
    "df.to_csv(save_path, index = False)"
   ]
  }
 ],
 "metadata": {
  "kernelspec": {
   "display_name": "Python 3 (ipykernel)",
   "language": "python",
   "name": "python3"
  },
  "language_info": {
   "codemirror_mode": {
    "name": "ipython",
    "version": 3
   },
   "file_extension": ".py",
   "mimetype": "text/x-python",
   "name": "python",
   "nbconvert_exporter": "python",
   "pygments_lexer": "ipython3",
   "version": "3.9.19"
  }
 },
 "nbformat": 4,
 "nbformat_minor": 5
}
